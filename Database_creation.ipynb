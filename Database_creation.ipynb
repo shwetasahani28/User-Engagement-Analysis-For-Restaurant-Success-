{
 "cells": [
  {
   "cell_type": "code",
   "execution_count": 1,
   "id": "09ba006a-9d80-45e0-81d0-120166e08cea",
   "metadata": {},
   "outputs": [],
   "source": [
    "import pandas as pd\n",
    "import json"
   ]
  },
  {
   "cell_type": "code",
   "execution_count": 2,
   "id": "f027d634-7b7f-4b1e-9469-b6d0adc94929",
   "metadata": {},
   "outputs": [],
   "source": [
    "from sqlalchemy import create_engine"
   ]
  },
  {
   "cell_type": "code",
   "execution_count": null,
   "id": "867839aa-c614-4180-b808-1ccb09054a54",
   "metadata": {},
   "outputs": [],
   "source": [
    "with open('yelp_academic_dataset_business.json', 'r', encoding='utf-8') as f:\n",
    "    business_data = [json.loads(line) for line in f]\n",
    "\n",
    "business_df = pd.DataFrame(business_data)\n",
    "\n",
    "with open('yelp_academic_dataset_checkin.json', 'r', encoding='utf-8') as f:\n",
    "     checkin_data = [json.loads(line) for line in f]\n",
    "\n",
    "checkin_df = pd.DataFrame(checkin_data)\n",
    "\n",
    "with open('yelp_academic_dataset_review.json', 'r', encoding='utf-8') as f:\n",
    "    review_data = [json.loads(line) for line in f]\n",
    "\n",
    "review_df = pd.DataFrame(review_data)\n",
    "\n",
    "with open('yelp_academic_dataset_tip.json', 'r', encoding='utf-8') as f:\n",
    "    tip_data = [json.loads(line) for line in f]\n",
    "\n",
    "tip_df = pd.DataFrame( tip_data)\n",
    "\n",
    "with open('yelp_academic_dataset_user.json', 'r', encoding='utf-8') as f:\n",
    "    user_data = [json.loads(line) for line in f]\n",
    "\n",
    "user_df = pd.DataFrame(user_data)"
   ]
  },
  {
   "cell_type": "code",
   "execution_count": null,
   "id": "415abde8-9120-4f37-a3c1-29d6e2c44ad1",
   "metadata": {},
   "outputs": [],
   "source": [
    "print(business_df.shape)\n",
    "print(chechin_df.shape)\n",
    "print(review_df.shape)\n",
    "print(tip_df.shape)\n",
    "print(user_df.shape)"
   ]
  },
  {
   "cell_type": "code",
   "execution_count": null,
   "id": "7e385275-121d-4bfb-acc0-3f6953e6c4e2",
   "metadata": {},
   "outputs": [],
   "source": [
    "engine = create_engine('sqlite///yelp.dp') #creating database\n",
    "\n",
    "def load_dataframe(df, table_name, engine):\n",
    "    df.to_sql(table_name, con=engine, if_exists='replace', index=False)\n",
    "\n",
    "\n",
    "# loading each dataframe into a separate table\n",
    "load_datafram(business_df, 'business',engine)\n",
    "load_datafram(review_df, 'review',engine)\n",
    "load_datafram(checkin_df, 'checkin',engine)\n",
    "load_datafram(tip_df, 'tip',engine)\n",
    "load_datafram(user_df, 'user',engine)"
   ]
  }
 ],
 "metadata": {
  "kernelspec": {
   "display_name": "Python 3 (ipykernel)",
   "language": "python",
   "name": "python3"
  },
  "language_info": {
   "codemirror_mode": {
    "name": "ipython",
    "version": 3
   },
   "file_extension": ".py",
   "mimetype": "text/x-python",
   "name": "python",
   "nbconvert_exporter": "python",
   "pygments_lexer": "ipython3",
   "version": "3.12.0"
  }
 },
 "nbformat": 4,
 "nbformat_minor": 5
}
